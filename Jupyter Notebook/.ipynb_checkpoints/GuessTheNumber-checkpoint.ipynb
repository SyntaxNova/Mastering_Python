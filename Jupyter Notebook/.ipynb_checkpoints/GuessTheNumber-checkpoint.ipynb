{
 "cells": [
  {
   "cell_type": "code",
   "execution_count": 1,
   "id": "315fa0b4-d923-4677-a73a-249534b6f5a1",
   "metadata": {},
   "outputs": [],
   "source": [
    "import random"
   ]
  },
  {
   "cell_type": "code",
   "execution_count": 2,
   "id": "95e8580b-9c92-42e5-8ce5-51b5d009294b",
   "metadata": {},
   "outputs": [
    {
     "name": "stdout",
     "output_type": "stream",
     "text": [
      "62\n"
     ]
    }
   ],
   "source": [
    "randomNum = random.randint(0,100)"
   ]
  },
  {
   "cell_type": "code",
   "execution_count": 3,
   "id": "7c478c22-81b1-42da-8ed7-e8b0c6fa65e2",
   "metadata": {},
   "outputs": [],
   "source": [
    "def GuessTheNumber(num):\n",
    "    n = (input(\"Guess the between 0 to 100 or quit(Q)  = \"))\n",
    "    if n == \"Q\":\n",
    "        return\n",
    "    n = int(n)\n",
    "    if n < 0 or n > 100:\n",
    "        print(\"please guess number between 0 to 100 \")\n",
    "        GuessTheNumber(num)\n",
    "    elif n == num :\n",
    "        print(\"Correct Number guessed !\")\n",
    "    elif(n > num):\n",
    "        print(\"You guessed big number\")\n",
    "        GuessTheNumber(num)\n",
    "    elif(n<num):\n",
    "        print(\"You guessed small number\")\n",
    "        GuessTheNumber(num)"
   ]
  },
  {
   "cell_type": "code",
   "execution_count": 4,
   "id": "761f6152-b3db-4e58-a83c-43da0ca8f741",
   "metadata": {},
   "outputs": [
    {
     "name": "stdin",
     "output_type": "stream",
     "text": [
      "Guess the between 0 to 100 or quit(Q)  =  50\n"
     ]
    },
    {
     "name": "stdout",
     "output_type": "stream",
     "text": [
      "You guessed small number\n"
     ]
    },
    {
     "name": "stdin",
     "output_type": "stream",
     "text": [
      "Guess the between 0 to 100 or quit(Q)  =  75\n"
     ]
    },
    {
     "name": "stdout",
     "output_type": "stream",
     "text": [
      "You guessed big number\n"
     ]
    },
    {
     "name": "stdin",
     "output_type": "stream",
     "text": [
      "Guess the between 0 to 100 or quit(Q)  =  60\n"
     ]
    },
    {
     "name": "stdout",
     "output_type": "stream",
     "text": [
      "You guessed small number\n"
     ]
    },
    {
     "name": "stdin",
     "output_type": "stream",
     "text": [
      "Guess the between 0 to 100 or quit(Q)  =  65\n"
     ]
    },
    {
     "name": "stdout",
     "output_type": "stream",
     "text": [
      "You guessed big number\n"
     ]
    },
    {
     "name": "stdin",
     "output_type": "stream",
     "text": [
      "Guess the between 0 to 100 or quit(Q)  =  61\n"
     ]
    },
    {
     "name": "stdout",
     "output_type": "stream",
     "text": [
      "You guessed small number\n"
     ]
    },
    {
     "name": "stdin",
     "output_type": "stream",
     "text": [
      "Guess the between 0 to 100 or quit(Q)  =  62\n"
     ]
    },
    {
     "name": "stdout",
     "output_type": "stream",
     "text": [
      "Correct Number guessed !\n"
     ]
    }
   ],
   "source": [
    "GuessTheNumber(randomNum)"
   ]
  }
 ],
 "metadata": {
  "kernelspec": {
   "display_name": "Python 3 (ipykernel)",
   "language": "python",
   "name": "python3"
  },
  "language_info": {
   "codemirror_mode": {
    "name": "ipython",
    "version": 3
   },
   "file_extension": ".py",
   "mimetype": "text/x-python",
   "name": "python",
   "nbconvert_exporter": "python",
   "pygments_lexer": "ipython3",
   "version": "3.10.12"
  }
 },
 "nbformat": 4,
 "nbformat_minor": 5
}
