{
 "cells": [
  {
   "cell_type": "markdown",
   "id": "bf972e12-cad6-4539-95de-259b2d5691c1",
   "metadata": {},
   "source": [
    "# Given a list of numbers, create a NumPy array and find\n",
    "# the sum and product of its elements"
   ]
  },
  {
   "cell_type": "code",
   "execution_count": 1,
   "id": "09c21daf-a865-436e-a9a5-eb0ff50e8fae",
   "metadata": {},
   "outputs": [
    {
     "name": "stdout",
     "output_type": "stream",
     "text": [
      "sum =  45\n",
      "products =  362880\n"
     ]
    }
   ],
   "source": [
    "import numpy as np\n",
    "\n",
    "num = [1,2,3,4,5,6,7,8,9]\n",
    "ar = np.array(num)\n",
    "\n",
    "#sum\n",
    "print(\"sum = \" ,np.sum(ar))\n",
    "print(\"products = \" , np.prod(ar))"
   ]
  },
  {
   "cell_type": "markdown",
   "id": "f689453d-4fb2-422d-8956-6fa443f839ca",
   "metadata": {},
   "source": [
    "# Implement a program that generates a NumPy array with\n",
    "# numbers from 0 to 9 and reshapes it into a 3x3 matrix"
   ]
  },
  {
   "cell_type": "code",
   "execution_count": 2,
   "id": "e503f860-e7e5-4b10-be2d-bd832f560ad8",
   "metadata": {},
   "outputs": [],
   "source": [
    "import numpy as np\n",
    "\n",
    "arr = np.array([0,1,2,3,4,5,6,7,8])"
   ]
  },
  {
   "cell_type": "code",
   "execution_count": 3,
   "id": "a5710a95-99d6-4964-bb66-4c68facc4c0d",
   "metadata": {},
   "outputs": [],
   "source": [
    "arr = arr.reshape(3,3)"
   ]
  },
  {
   "cell_type": "code",
   "execution_count": 4,
   "id": "4c27d331-22ae-4df1-bc60-e7041c5ea725",
   "metadata": {},
   "outputs": [
    {
     "data": {
      "text/plain": [
       "array([[0, 1, 2],\n",
       "       [3, 4, 5],\n",
       "       [6, 7, 8]])"
      ]
     },
     "execution_count": 4,
     "metadata": {},
     "output_type": "execute_result"
    }
   ],
   "source": [
    "arr"
   ]
  },
  {
   "cell_type": "markdown",
   "id": "e7b60534-c029-4de0-85a8-462b0ec6f5ce",
   "metadata": {},
   "source": [
    "# Write a Python program that uses NumPy to find the\n",
    "# mean, median, and standard deviation of a dataset"
   ]
  },
  {
   "cell_type": "code",
   "execution_count": 5,
   "id": "3ecb7d54-19ff-492c-b1e7-3d0b1fdb221f",
   "metadata": {},
   "outputs": [],
   "source": [
    "import numpy as np \n",
    "\n",
    "numbs = [1,2,3,4,5,6,7,8,9]\n",
    "numbers = np.array(numbs)\n",
    "\n",
    "mean = np.mean(numbers)\n",
    "\n",
    "meadian = np.median(numbers)\n",
    "\n",
    "standard_deviation = np.std(numbers)"
   ]
  },
  {
   "cell_type": "code",
   "execution_count": 6,
   "id": "de421b20-25ae-4b23-bd83-682ee63878ef",
   "metadata": {},
   "outputs": [
    {
     "name": "stdout",
     "output_type": "stream",
     "text": [
      "mean = 5.0, median = 5.0 , std = 2.581988897471611 \n"
     ]
    }
   ],
   "source": [
    "print(f\"mean = {mean}, median = {meadian} , std = {standard_deviation} \")"
   ]
  },
  {
   "cell_type": "markdown",
   "id": "3bf79279-dc1f-47c8-85e6-f7a5157dc581",
   "metadata": {},
   "source": [
    "# Create a function that takes a list of numbers and returns\n",
    "# the NumPy array sorted in ascending order"
   ]
  },
  {
   "cell_type": "code",
   "execution_count": 7,
   "id": "4ca31f9b-9601-46a7-91a6-e9fc0b194ffa",
   "metadata": {},
   "outputs": [
    {
     "name": "stdout",
     "output_type": "stream",
     "text": [
      "[1 2 3 4 5]\n"
     ]
    }
   ],
   "source": [
    "import numpy as np\n",
    "\n",
    "def sortArray(l):\n",
    "    li = np.array(l)\n",
    "    return np.sort(li)\n",
    "    \n",
    "print(sortArray([1,3,2,5,4]))"
   ]
  },
  {
   "cell_type": "markdown",
   "id": "f8f5d5b7-81e2-42fe-8965-96eca47b8988",
   "metadata": {},
   "source": [
    "# Given a list of lists, create a 2D NumPy array and find the\n",
    "# sum of elements in each row and column"
   ]
  },
  {
   "cell_type": "code",
   "execution_count": 8,
   "id": "adf5fd6e-cf71-4004-bdbd-ff6054b966ba",
   "metadata": {},
   "outputs": [],
   "source": [
    "ar1 = np.array([[1,2,3] , [4,5,6], [7,1,2]])"
   ]
  },
  {
   "cell_type": "code",
   "execution_count": 9,
   "id": "a2f963e3-a67c-4c0b-a7ea-5c1551ab1e40",
   "metadata": {},
   "outputs": [
    {
     "data": {
      "text/plain": [
       "array([[1, 2, 3],\n",
       "       [4, 5, 6],\n",
       "       [7, 1, 2]])"
      ]
     },
     "execution_count": 9,
     "metadata": {},
     "output_type": "execute_result"
    }
   ],
   "source": [
    "ar1"
   ]
  },
  {
   "cell_type": "code",
   "execution_count": 10,
   "id": "bee7f59e-d435-432c-b5c0-2b531068b533",
   "metadata": {},
   "outputs": [
    {
     "data": {
      "text/plain": [
       "array([12,  8, 11])"
      ]
     },
     "execution_count": 10,
     "metadata": {},
     "output_type": "execute_result"
    }
   ],
   "source": [
    "# sum about columns\n",
    "ar1.sum(axis=0)"
   ]
  },
  {
   "cell_type": "code",
   "execution_count": 11,
   "id": "9159b0b2-7379-4bef-ac14-b3b42a62466b",
   "metadata": {},
   "outputs": [
    {
     "data": {
      "text/plain": [
       "array([ 6, 15, 10])"
      ]
     },
     "execution_count": 11,
     "metadata": {},
     "output_type": "execute_result"
    }
   ],
   "source": [
    "# sum about rows\n",
    "ar1.sum(axis=1)"
   ]
  },
  {
   "cell_type": "markdown",
   "id": "bdb4c7ad-153e-43fb-8ba4-e1be0ba0f7fa",
   "metadata": {},
   "source": [
    "# Implement a program that generates a random NumPy\n",
    "# array and finds the maximum and minimum values"
   ]
  },
  {
   "cell_type": "code",
   "execution_count": 12,
   "id": "940512b7-c809-426b-9491-5900a7c07d84",
   "metadata": {},
   "outputs": [],
   "source": [
    "r = np.random.rand(5)"
   ]
  },
  {
   "cell_type": "code",
   "execution_count": 13,
   "id": "4be41a97-fabf-4d4b-8c37-2ee9c892680f",
   "metadata": {},
   "outputs": [
    {
     "data": {
      "text/plain": [
       "array([0.99281105, 0.28312148, 0.08998809, 0.19883025, 0.07446494])"
      ]
     },
     "execution_count": 13,
     "metadata": {},
     "output_type": "execute_result"
    }
   ],
   "source": [
    "# random 1D sarray\n",
    "r"
   ]
  },
  {
   "cell_type": "code",
   "execution_count": 14,
   "id": "53ab4438-4ce8-4f2c-b43a-5bb81772e954",
   "metadata": {},
   "outputs": [
    {
     "data": {
      "text/plain": [
       "0.9928110533832841"
      ]
     },
     "execution_count": 14,
     "metadata": {},
     "output_type": "execute_result"
    }
   ],
   "source": [
    "# max in array\n",
    "np.max(r)"
   ]
  },
  {
   "cell_type": "code",
   "execution_count": 15,
   "id": "eb4f9cee-a3ed-4f5c-a7ec-c9168c7e14e7",
   "metadata": {},
   "outputs": [
    {
     "data": {
      "text/plain": [
       "0.07446493835550494"
      ]
     },
     "execution_count": 15,
     "metadata": {},
     "output_type": "execute_result"
    }
   ],
   "source": [
    "# min in array\n",
    "np.min(r)"
   ]
  },
  {
   "cell_type": "markdown",
   "id": "7bcc2e20-4357-4f10-a58f-ba0c0f99ace3",
   "metadata": {},
   "source": [
    "# Write a function that takes a NumPy array and returns a\n",
    "# new array with all elements squared"
   ]
  },
  {
   "cell_type": "code",
   "execution_count": 16,
   "id": "a25bd58f-74c8-4542-a15d-f2d1943999e1",
   "metadata": {},
   "outputs": [
    {
     "name": "stdout",
     "output_type": "stream",
     "text": [
      "[ 1  4  9 16]\n"
     ]
    }
   ],
   "source": [
    "nr = np.array([1,2,3,4])\n",
    "\n",
    "def sqr(l):\n",
    "    return np.square(l)\n",
    "    \n",
    "print(sqr(nr))"
   ]
  },
  {
   "cell_type": "markdown",
   "id": "0fa1a54f-ca72-457f-9def-be20fa8a156d",
   "metadata": {},
   "source": [
    "# Given a NumPy array, calculate the dot product of the\n",
    "# array with itself"
   ]
  },
  {
   "cell_type": "code",
   "execution_count": 17,
   "id": "77e1963e-155f-49e8-989c-24b74d983396",
   "metadata": {},
   "outputs": [],
   "source": [
    "np1 = np.array([1,2])\n",
    "product = np.dot(np1,np1)"
   ]
  },
  {
   "cell_type": "code",
   "execution_count": 18,
   "id": "2e9b919a-d1be-422b-a6dd-54034f206a3b",
   "metadata": {},
   "outputs": [
    {
     "data": {
      "text/plain": [
       "5"
      ]
     },
     "execution_count": 18,
     "metadata": {},
     "output_type": "execute_result"
    }
   ],
   "source": [
    "product"
   ]
  },
  {
   "cell_type": "markdown",
   "id": "1958baf1-ba2b-46d1-b677-8fd961be35a0",
   "metadata": {},
   "source": [
    "# Create a program that uses NumPy to calculate the\n",
    "# inverse of a 2x2 matrix"
   ]
  },
  {
   "cell_type": "code",
   "execution_count": 19,
   "id": "eff10e55-b1e4-41e7-9734-cbf3ec54bc0a",
   "metadata": {},
   "outputs": [],
   "source": [
    "mat = np.array([[1,2] , [3,4]])"
   ]
  },
  {
   "cell_type": "code",
   "execution_count": 20,
   "id": "1c1a2979-b3ab-4bce-a6ec-87ad7a399d91",
   "metadata": {},
   "outputs": [
    {
     "data": {
      "text/plain": [
       "array([[1, 2],\n",
       "       [3, 4]])"
      ]
     },
     "execution_count": 20,
     "metadata": {},
     "output_type": "execute_result"
    }
   ],
   "source": [
    "mat"
   ]
  },
  {
   "cell_type": "code",
   "execution_count": 21,
   "id": "1683af08-5b74-4afa-9605-878a8aa8daa4",
   "metadata": {},
   "outputs": [
    {
     "name": "stdout",
     "output_type": "stream",
     "text": [
      "[[-2.   1. ]\n",
      " [ 1.5 -0.5]]\n"
     ]
    }
   ],
   "source": [
    "if np.linalg.det(mat) == 0:\n",
    "    print(\"Not invertible\")\n",
    "else:\n",
    "    inverse = np.linalg.inv(mat)\n",
    "    print( inverse)"
   ]
  },
  {
   "cell_type": "markdown",
   "id": "7e2e814c-932b-4712-8e86-da2a763c2144",
   "metadata": {},
   "source": [
    "# Implement a function that takes a NumPy array and\n",
    "# returns the transpose of the array."
   ]
  },
  {
   "cell_type": "code",
   "execution_count": 22,
   "id": "0392c21d-f51f-4604-b709-ef90257a483f",
   "metadata": {},
   "outputs": [
    {
     "name": "stdout",
     "output_type": "stream",
     "text": [
      "[[1 3]\n",
      " [2 4]]\n"
     ]
    }
   ],
   "source": [
    "def transp(l):\n",
    "    return l.T\n",
    "print(transp(mat))"
   ]
  }
 ],
 "metadata": {
  "kernelspec": {
   "display_name": "Python 3 (ipykernel)",
   "language": "python",
   "name": "python3"
  },
  "language_info": {
   "codemirror_mode": {
    "name": "ipython",
    "version": 3
   },
   "file_extension": ".py",
   "mimetype": "text/x-python",
   "name": "python",
   "nbconvert_exporter": "python",
   "pygments_lexer": "ipython3",
   "version": "3.10.12"
  }
 },
 "nbformat": 4,
 "nbformat_minor": 5
}
